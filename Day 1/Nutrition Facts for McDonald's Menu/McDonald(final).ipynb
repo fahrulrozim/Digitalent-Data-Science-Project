{
 "cells": [
  {
   "cell_type": "markdown",
   "metadata": {},
   "source": [
    "# McDonalds Menu Data Analysis"
   ]
  },
  {
   "cell_type": "code",
   "execution_count": 82,
   "metadata": {},
   "outputs": [
    {
     "data": {
      "text/html": [
       "<div>\n",
       "<style scoped>\n",
       "    .dataframe tbody tr th:only-of-type {\n",
       "        vertical-align: middle;\n",
       "    }\n",
       "\n",
       "    .dataframe tbody tr th {\n",
       "        vertical-align: top;\n",
       "    }\n",
       "\n",
       "    .dataframe thead th {\n",
       "        text-align: right;\n",
       "    }\n",
       "</style>\n",
       "<table border=\"1\" class=\"dataframe\">\n",
       "  <thead>\n",
       "    <tr style=\"text-align: right;\">\n",
       "      <th></th>\n",
       "      <th>Category</th>\n",
       "      <th>Item</th>\n",
       "      <th>Serving Size</th>\n",
       "      <th>Calories</th>\n",
       "      <th>Calories from Fat</th>\n",
       "      <th>Total Fat</th>\n",
       "      <th>Total Fat (% Daily Value)</th>\n",
       "      <th>Saturated Fat</th>\n",
       "      <th>Saturated Fat (% Daily Value)</th>\n",
       "      <th>Trans Fat</th>\n",
       "      <th>...</th>\n",
       "      <th>Carbohydrates</th>\n",
       "      <th>Carbohydrates (% Daily Value)</th>\n",
       "      <th>Dietary Fiber</th>\n",
       "      <th>Dietary Fiber (% Daily Value)</th>\n",
       "      <th>Sugars</th>\n",
       "      <th>Protein</th>\n",
       "      <th>Vitamin A (% Daily Value)</th>\n",
       "      <th>Vitamin C (% Daily Value)</th>\n",
       "      <th>Calcium (% Daily Value)</th>\n",
       "      <th>Iron (% Daily Value)</th>\n",
       "    </tr>\n",
       "  </thead>\n",
       "  <tbody>\n",
       "    <tr>\n",
       "      <th>0</th>\n",
       "      <td>Breakfast</td>\n",
       "      <td>Egg McMuffin</td>\n",
       "      <td>4.8 oz (136 g)</td>\n",
       "      <td>300</td>\n",
       "      <td>120</td>\n",
       "      <td>13.0</td>\n",
       "      <td>20</td>\n",
       "      <td>5.0</td>\n",
       "      <td>25</td>\n",
       "      <td>0.0</td>\n",
       "      <td>...</td>\n",
       "      <td>31</td>\n",
       "      <td>10</td>\n",
       "      <td>4</td>\n",
       "      <td>17</td>\n",
       "      <td>3</td>\n",
       "      <td>17</td>\n",
       "      <td>10</td>\n",
       "      <td>0</td>\n",
       "      <td>25</td>\n",
       "      <td>15</td>\n",
       "    </tr>\n",
       "    <tr>\n",
       "      <th>1</th>\n",
       "      <td>Breakfast</td>\n",
       "      <td>Egg White Delight</td>\n",
       "      <td>4.8 oz (135 g)</td>\n",
       "      <td>250</td>\n",
       "      <td>70</td>\n",
       "      <td>8.0</td>\n",
       "      <td>12</td>\n",
       "      <td>3.0</td>\n",
       "      <td>15</td>\n",
       "      <td>0.0</td>\n",
       "      <td>...</td>\n",
       "      <td>30</td>\n",
       "      <td>10</td>\n",
       "      <td>4</td>\n",
       "      <td>17</td>\n",
       "      <td>3</td>\n",
       "      <td>18</td>\n",
       "      <td>6</td>\n",
       "      <td>0</td>\n",
       "      <td>25</td>\n",
       "      <td>8</td>\n",
       "    </tr>\n",
       "    <tr>\n",
       "      <th>2</th>\n",
       "      <td>Breakfast</td>\n",
       "      <td>Sausage McMuffin</td>\n",
       "      <td>3.9 oz (111 g)</td>\n",
       "      <td>370</td>\n",
       "      <td>200</td>\n",
       "      <td>23.0</td>\n",
       "      <td>35</td>\n",
       "      <td>8.0</td>\n",
       "      <td>42</td>\n",
       "      <td>0.0</td>\n",
       "      <td>...</td>\n",
       "      <td>29</td>\n",
       "      <td>10</td>\n",
       "      <td>4</td>\n",
       "      <td>17</td>\n",
       "      <td>2</td>\n",
       "      <td>14</td>\n",
       "      <td>8</td>\n",
       "      <td>0</td>\n",
       "      <td>25</td>\n",
       "      <td>10</td>\n",
       "    </tr>\n",
       "    <tr>\n",
       "      <th>3</th>\n",
       "      <td>Breakfast</td>\n",
       "      <td>Sausage McMuffin with Egg</td>\n",
       "      <td>5.7 oz (161 g)</td>\n",
       "      <td>450</td>\n",
       "      <td>250</td>\n",
       "      <td>28.0</td>\n",
       "      <td>43</td>\n",
       "      <td>10.0</td>\n",
       "      <td>52</td>\n",
       "      <td>0.0</td>\n",
       "      <td>...</td>\n",
       "      <td>30</td>\n",
       "      <td>10</td>\n",
       "      <td>4</td>\n",
       "      <td>17</td>\n",
       "      <td>2</td>\n",
       "      <td>21</td>\n",
       "      <td>15</td>\n",
       "      <td>0</td>\n",
       "      <td>30</td>\n",
       "      <td>15</td>\n",
       "    </tr>\n",
       "    <tr>\n",
       "      <th>4</th>\n",
       "      <td>Breakfast</td>\n",
       "      <td>Sausage McMuffin with Egg Whites</td>\n",
       "      <td>5.7 oz (161 g)</td>\n",
       "      <td>400</td>\n",
       "      <td>210</td>\n",
       "      <td>23.0</td>\n",
       "      <td>35</td>\n",
       "      <td>8.0</td>\n",
       "      <td>42</td>\n",
       "      <td>0.0</td>\n",
       "      <td>...</td>\n",
       "      <td>30</td>\n",
       "      <td>10</td>\n",
       "      <td>4</td>\n",
       "      <td>17</td>\n",
       "      <td>2</td>\n",
       "      <td>21</td>\n",
       "      <td>6</td>\n",
       "      <td>0</td>\n",
       "      <td>25</td>\n",
       "      <td>10</td>\n",
       "    </tr>\n",
       "  </tbody>\n",
       "</table>\n",
       "<p>5 rows × 24 columns</p>\n",
       "</div>"
      ],
      "text/plain": [
       "    Category                              Item    Serving Size  Calories  \\\n",
       "0  Breakfast                      Egg McMuffin  4.8 oz (136 g)       300   \n",
       "1  Breakfast                 Egg White Delight  4.8 oz (135 g)       250   \n",
       "2  Breakfast                  Sausage McMuffin  3.9 oz (111 g)       370   \n",
       "3  Breakfast         Sausage McMuffin with Egg  5.7 oz (161 g)       450   \n",
       "4  Breakfast  Sausage McMuffin with Egg Whites  5.7 oz (161 g)       400   \n",
       "\n",
       "   Calories from Fat  Total Fat  Total Fat (% Daily Value)  Saturated Fat  \\\n",
       "0                120       13.0                         20            5.0   \n",
       "1                 70        8.0                         12            3.0   \n",
       "2                200       23.0                         35            8.0   \n",
       "3                250       28.0                         43           10.0   \n",
       "4                210       23.0                         35            8.0   \n",
       "\n",
       "   Saturated Fat (% Daily Value)  Trans Fat  ...  Carbohydrates  \\\n",
       "0                             25        0.0  ...             31   \n",
       "1                             15        0.0  ...             30   \n",
       "2                             42        0.0  ...             29   \n",
       "3                             52        0.0  ...             30   \n",
       "4                             42        0.0  ...             30   \n",
       "\n",
       "   Carbohydrates (% Daily Value)  Dietary Fiber  \\\n",
       "0                             10              4   \n",
       "1                             10              4   \n",
       "2                             10              4   \n",
       "3                             10              4   \n",
       "4                             10              4   \n",
       "\n",
       "   Dietary Fiber (% Daily Value)  Sugars  Protein  Vitamin A (% Daily Value)  \\\n",
       "0                             17       3       17                         10   \n",
       "1                             17       3       18                          6   \n",
       "2                             17       2       14                          8   \n",
       "3                             17       2       21                         15   \n",
       "4                             17       2       21                          6   \n",
       "\n",
       "   Vitamin C (% Daily Value)  Calcium (% Daily Value)  Iron (% Daily Value)  \n",
       "0                          0                       25                    15  \n",
       "1                          0                       25                     8  \n",
       "2                          0                       25                    10  \n",
       "3                          0                       30                    15  \n",
       "4                          0                       25                    10  \n",
       "\n",
       "[5 rows x 24 columns]"
      ]
     },
     "execution_count": 82,
     "metadata": {},
     "output_type": "execute_result"
    }
   ],
   "source": [
    "import pandas as pd\n",
    "df = pd.read_csv('menu.csv')\n",
    "df.head()"
   ]
  },
  {
   "cell_type": "code",
   "execution_count": 83,
   "metadata": {},
   "outputs": [
    {
     "data": {
      "text/html": [
       "<div>\n",
       "<style scoped>\n",
       "    .dataframe tbody tr th:only-of-type {\n",
       "        vertical-align: middle;\n",
       "    }\n",
       "\n",
       "    .dataframe tbody tr th {\n",
       "        vertical-align: top;\n",
       "    }\n",
       "\n",
       "    .dataframe thead th {\n",
       "        text-align: right;\n",
       "    }\n",
       "</style>\n",
       "<table border=\"1\" class=\"dataframe\">\n",
       "  <thead>\n",
       "    <tr style=\"text-align: right;\">\n",
       "      <th></th>\n",
       "      <th>Calories</th>\n",
       "      <th>Calories from Fat</th>\n",
       "      <th>Total Fat</th>\n",
       "      <th>Total Fat (% Daily Value)</th>\n",
       "      <th>Saturated Fat</th>\n",
       "      <th>Saturated Fat (% Daily Value)</th>\n",
       "      <th>Trans Fat</th>\n",
       "      <th>Cholesterol</th>\n",
       "      <th>Cholesterol (% Daily Value)</th>\n",
       "      <th>Sodium</th>\n",
       "      <th>...</th>\n",
       "      <th>Carbohydrates</th>\n",
       "      <th>Carbohydrates (% Daily Value)</th>\n",
       "      <th>Dietary Fiber</th>\n",
       "      <th>Dietary Fiber (% Daily Value)</th>\n",
       "      <th>Sugars</th>\n",
       "      <th>Protein</th>\n",
       "      <th>Vitamin A (% Daily Value)</th>\n",
       "      <th>Vitamin C (% Daily Value)</th>\n",
       "      <th>Calcium (% Daily Value)</th>\n",
       "      <th>Iron (% Daily Value)</th>\n",
       "    </tr>\n",
       "  </thead>\n",
       "  <tbody>\n",
       "    <tr>\n",
       "      <th>count</th>\n",
       "      <td>260.000000</td>\n",
       "      <td>260.000000</td>\n",
       "      <td>260.000000</td>\n",
       "      <td>260.000000</td>\n",
       "      <td>260.000000</td>\n",
       "      <td>260.000000</td>\n",
       "      <td>260.000000</td>\n",
       "      <td>260.000000</td>\n",
       "      <td>260.000000</td>\n",
       "      <td>260.000000</td>\n",
       "      <td>...</td>\n",
       "      <td>260.000000</td>\n",
       "      <td>260.000000</td>\n",
       "      <td>260.000000</td>\n",
       "      <td>260.000000</td>\n",
       "      <td>260.000000</td>\n",
       "      <td>260.000000</td>\n",
       "      <td>260.000000</td>\n",
       "      <td>260.000000</td>\n",
       "      <td>260.000000</td>\n",
       "      <td>260.000000</td>\n",
       "    </tr>\n",
       "    <tr>\n",
       "      <th>mean</th>\n",
       "      <td>368.269231</td>\n",
       "      <td>127.096154</td>\n",
       "      <td>14.165385</td>\n",
       "      <td>21.815385</td>\n",
       "      <td>6.007692</td>\n",
       "      <td>29.965385</td>\n",
       "      <td>0.203846</td>\n",
       "      <td>54.942308</td>\n",
       "      <td>18.392308</td>\n",
       "      <td>495.750000</td>\n",
       "      <td>...</td>\n",
       "      <td>47.346154</td>\n",
       "      <td>15.780769</td>\n",
       "      <td>1.630769</td>\n",
       "      <td>6.530769</td>\n",
       "      <td>29.423077</td>\n",
       "      <td>13.338462</td>\n",
       "      <td>13.426923</td>\n",
       "      <td>8.534615</td>\n",
       "      <td>20.973077</td>\n",
       "      <td>7.734615</td>\n",
       "    </tr>\n",
       "    <tr>\n",
       "      <th>std</th>\n",
       "      <td>240.269886</td>\n",
       "      <td>127.875914</td>\n",
       "      <td>14.205998</td>\n",
       "      <td>21.885199</td>\n",
       "      <td>5.321873</td>\n",
       "      <td>26.639209</td>\n",
       "      <td>0.429133</td>\n",
       "      <td>87.269257</td>\n",
       "      <td>29.091653</td>\n",
       "      <td>577.026323</td>\n",
       "      <td>...</td>\n",
       "      <td>28.252232</td>\n",
       "      <td>9.419544</td>\n",
       "      <td>1.567717</td>\n",
       "      <td>6.307057</td>\n",
       "      <td>28.679797</td>\n",
       "      <td>11.426146</td>\n",
       "      <td>24.366381</td>\n",
       "      <td>26.345542</td>\n",
       "      <td>17.019953</td>\n",
       "      <td>8.723263</td>\n",
       "    </tr>\n",
       "    <tr>\n",
       "      <th>min</th>\n",
       "      <td>0.000000</td>\n",
       "      <td>0.000000</td>\n",
       "      <td>0.000000</td>\n",
       "      <td>0.000000</td>\n",
       "      <td>0.000000</td>\n",
       "      <td>0.000000</td>\n",
       "      <td>0.000000</td>\n",
       "      <td>0.000000</td>\n",
       "      <td>0.000000</td>\n",
       "      <td>0.000000</td>\n",
       "      <td>...</td>\n",
       "      <td>0.000000</td>\n",
       "      <td>0.000000</td>\n",
       "      <td>0.000000</td>\n",
       "      <td>0.000000</td>\n",
       "      <td>0.000000</td>\n",
       "      <td>0.000000</td>\n",
       "      <td>0.000000</td>\n",
       "      <td>0.000000</td>\n",
       "      <td>0.000000</td>\n",
       "      <td>0.000000</td>\n",
       "    </tr>\n",
       "    <tr>\n",
       "      <th>25%</th>\n",
       "      <td>210.000000</td>\n",
       "      <td>20.000000</td>\n",
       "      <td>2.375000</td>\n",
       "      <td>3.750000</td>\n",
       "      <td>1.000000</td>\n",
       "      <td>4.750000</td>\n",
       "      <td>0.000000</td>\n",
       "      <td>5.000000</td>\n",
       "      <td>2.000000</td>\n",
       "      <td>107.500000</td>\n",
       "      <td>...</td>\n",
       "      <td>30.000000</td>\n",
       "      <td>10.000000</td>\n",
       "      <td>0.000000</td>\n",
       "      <td>0.000000</td>\n",
       "      <td>5.750000</td>\n",
       "      <td>4.000000</td>\n",
       "      <td>2.000000</td>\n",
       "      <td>0.000000</td>\n",
       "      <td>6.000000</td>\n",
       "      <td>0.000000</td>\n",
       "    </tr>\n",
       "    <tr>\n",
       "      <th>50%</th>\n",
       "      <td>340.000000</td>\n",
       "      <td>100.000000</td>\n",
       "      <td>11.000000</td>\n",
       "      <td>17.000000</td>\n",
       "      <td>5.000000</td>\n",
       "      <td>24.000000</td>\n",
       "      <td>0.000000</td>\n",
       "      <td>35.000000</td>\n",
       "      <td>11.000000</td>\n",
       "      <td>190.000000</td>\n",
       "      <td>...</td>\n",
       "      <td>44.000000</td>\n",
       "      <td>15.000000</td>\n",
       "      <td>1.000000</td>\n",
       "      <td>5.000000</td>\n",
       "      <td>17.500000</td>\n",
       "      <td>12.000000</td>\n",
       "      <td>8.000000</td>\n",
       "      <td>0.000000</td>\n",
       "      <td>20.000000</td>\n",
       "      <td>4.000000</td>\n",
       "    </tr>\n",
       "    <tr>\n",
       "      <th>75%</th>\n",
       "      <td>500.000000</td>\n",
       "      <td>200.000000</td>\n",
       "      <td>22.250000</td>\n",
       "      <td>35.000000</td>\n",
       "      <td>10.000000</td>\n",
       "      <td>48.000000</td>\n",
       "      <td>0.000000</td>\n",
       "      <td>65.000000</td>\n",
       "      <td>21.250000</td>\n",
       "      <td>865.000000</td>\n",
       "      <td>...</td>\n",
       "      <td>60.000000</td>\n",
       "      <td>20.000000</td>\n",
       "      <td>3.000000</td>\n",
       "      <td>10.000000</td>\n",
       "      <td>48.000000</td>\n",
       "      <td>19.000000</td>\n",
       "      <td>15.000000</td>\n",
       "      <td>4.000000</td>\n",
       "      <td>30.000000</td>\n",
       "      <td>15.000000</td>\n",
       "    </tr>\n",
       "    <tr>\n",
       "      <th>max</th>\n",
       "      <td>1880.000000</td>\n",
       "      <td>1060.000000</td>\n",
       "      <td>118.000000</td>\n",
       "      <td>182.000000</td>\n",
       "      <td>20.000000</td>\n",
       "      <td>102.000000</td>\n",
       "      <td>2.500000</td>\n",
       "      <td>575.000000</td>\n",
       "      <td>192.000000</td>\n",
       "      <td>3600.000000</td>\n",
       "      <td>...</td>\n",
       "      <td>141.000000</td>\n",
       "      <td>47.000000</td>\n",
       "      <td>7.000000</td>\n",
       "      <td>28.000000</td>\n",
       "      <td>128.000000</td>\n",
       "      <td>87.000000</td>\n",
       "      <td>170.000000</td>\n",
       "      <td>240.000000</td>\n",
       "      <td>70.000000</td>\n",
       "      <td>40.000000</td>\n",
       "    </tr>\n",
       "  </tbody>\n",
       "</table>\n",
       "<p>8 rows × 21 columns</p>\n",
       "</div>"
      ],
      "text/plain": [
       "          Calories  Calories from Fat   Total Fat  Total Fat (% Daily Value)  \\\n",
       "count   260.000000         260.000000  260.000000                 260.000000   \n",
       "mean    368.269231         127.096154   14.165385                  21.815385   \n",
       "std     240.269886         127.875914   14.205998                  21.885199   \n",
       "min       0.000000           0.000000    0.000000                   0.000000   \n",
       "25%     210.000000          20.000000    2.375000                   3.750000   \n",
       "50%     340.000000         100.000000   11.000000                  17.000000   \n",
       "75%     500.000000         200.000000   22.250000                  35.000000   \n",
       "max    1880.000000        1060.000000  118.000000                 182.000000   \n",
       "\n",
       "       Saturated Fat  Saturated Fat (% Daily Value)   Trans Fat  Cholesterol  \\\n",
       "count     260.000000                     260.000000  260.000000   260.000000   \n",
       "mean        6.007692                      29.965385    0.203846    54.942308   \n",
       "std         5.321873                      26.639209    0.429133    87.269257   \n",
       "min         0.000000                       0.000000    0.000000     0.000000   \n",
       "25%         1.000000                       4.750000    0.000000     5.000000   \n",
       "50%         5.000000                      24.000000    0.000000    35.000000   \n",
       "75%        10.000000                      48.000000    0.000000    65.000000   \n",
       "max        20.000000                     102.000000    2.500000   575.000000   \n",
       "\n",
       "       Cholesterol (% Daily Value)       Sodium  ...  Carbohydrates  \\\n",
       "count                   260.000000   260.000000  ...     260.000000   \n",
       "mean                     18.392308   495.750000  ...      47.346154   \n",
       "std                      29.091653   577.026323  ...      28.252232   \n",
       "min                       0.000000     0.000000  ...       0.000000   \n",
       "25%                       2.000000   107.500000  ...      30.000000   \n",
       "50%                      11.000000   190.000000  ...      44.000000   \n",
       "75%                      21.250000   865.000000  ...      60.000000   \n",
       "max                     192.000000  3600.000000  ...     141.000000   \n",
       "\n",
       "       Carbohydrates (% Daily Value)  Dietary Fiber  \\\n",
       "count                     260.000000     260.000000   \n",
       "mean                       15.780769       1.630769   \n",
       "std                         9.419544       1.567717   \n",
       "min                         0.000000       0.000000   \n",
       "25%                        10.000000       0.000000   \n",
       "50%                        15.000000       1.000000   \n",
       "75%                        20.000000       3.000000   \n",
       "max                        47.000000       7.000000   \n",
       "\n",
       "       Dietary Fiber (% Daily Value)      Sugars     Protein  \\\n",
       "count                     260.000000  260.000000  260.000000   \n",
       "mean                        6.530769   29.423077   13.338462   \n",
       "std                         6.307057   28.679797   11.426146   \n",
       "min                         0.000000    0.000000    0.000000   \n",
       "25%                         0.000000    5.750000    4.000000   \n",
       "50%                         5.000000   17.500000   12.000000   \n",
       "75%                        10.000000   48.000000   19.000000   \n",
       "max                        28.000000  128.000000   87.000000   \n",
       "\n",
       "       Vitamin A (% Daily Value)  Vitamin C (% Daily Value)  \\\n",
       "count                 260.000000                 260.000000   \n",
       "mean                   13.426923                   8.534615   \n",
       "std                    24.366381                  26.345542   \n",
       "min                     0.000000                   0.000000   \n",
       "25%                     2.000000                   0.000000   \n",
       "50%                     8.000000                   0.000000   \n",
       "75%                    15.000000                   4.000000   \n",
       "max                   170.000000                 240.000000   \n",
       "\n",
       "       Calcium (% Daily Value)  Iron (% Daily Value)  \n",
       "count               260.000000            260.000000  \n",
       "mean                 20.973077              7.734615  \n",
       "std                  17.019953              8.723263  \n",
       "min                   0.000000              0.000000  \n",
       "25%                   6.000000              0.000000  \n",
       "50%                  20.000000              4.000000  \n",
       "75%                  30.000000             15.000000  \n",
       "max                  70.000000             40.000000  \n",
       "\n",
       "[8 rows x 21 columns]"
      ]
     },
     "execution_count": 83,
     "metadata": {},
     "output_type": "execute_result"
    }
   ],
   "source": [
    "df.describe()"
   ]
  },
  {
   "cell_type": "code",
   "execution_count": 84,
   "metadata": {},
   "outputs": [
    {
     "name": "stdout",
     "output_type": "stream",
     "text": [
      "<class 'pandas.core.frame.DataFrame'>\n",
      "RangeIndex: 260 entries, 0 to 259\n",
      "Data columns (total 24 columns):\n",
      " #   Column                         Non-Null Count  Dtype  \n",
      "---  ------                         --------------  -----  \n",
      " 0   Category                       260 non-null    object \n",
      " 1   Item                           260 non-null    object \n",
      " 2   Serving Size                   260 non-null    object \n",
      " 3   Calories                       260 non-null    int64  \n",
      " 4   Calories from Fat              260 non-null    int64  \n",
      " 5   Total Fat                      260 non-null    float64\n",
      " 6   Total Fat (% Daily Value)      260 non-null    int64  \n",
      " 7   Saturated Fat                  260 non-null    float64\n",
      " 8   Saturated Fat (% Daily Value)  260 non-null    int64  \n",
      " 9   Trans Fat                      260 non-null    float64\n",
      " 10  Cholesterol                    260 non-null    int64  \n",
      " 11  Cholesterol (% Daily Value)    260 non-null    int64  \n",
      " 12  Sodium                         260 non-null    int64  \n",
      " 13  Sodium (% Daily Value)         260 non-null    int64  \n",
      " 14  Carbohydrates                  260 non-null    int64  \n",
      " 15  Carbohydrates (% Daily Value)  260 non-null    int64  \n",
      " 16  Dietary Fiber                  260 non-null    int64  \n",
      " 17  Dietary Fiber (% Daily Value)  260 non-null    int64  \n",
      " 18  Sugars                         260 non-null    int64  \n",
      " 19  Protein                        260 non-null    int64  \n",
      " 20  Vitamin A (% Daily Value)      260 non-null    int64  \n",
      " 21  Vitamin C (% Daily Value)      260 non-null    int64  \n",
      " 22  Calcium (% Daily Value)        260 non-null    int64  \n",
      " 23  Iron (% Daily Value)           260 non-null    int64  \n",
      "dtypes: float64(3), int64(18), object(3)\n",
      "memory usage: 48.9+ KB\n"
     ]
    }
   ],
   "source": [
    "df.info()"
   ]
  },
  {
   "cell_type": "code",
   "execution_count": 85,
   "metadata": {},
   "outputs": [
    {
     "data": {
      "text/plain": [
       "False"
      ]
     },
     "execution_count": 85,
     "metadata": {},
     "output_type": "execute_result"
    }
   ],
   "source": [
    "df.isnull().values.any()"
   ]
  },
  {
   "cell_type": "code",
   "execution_count": 86,
   "metadata": {},
   "outputs": [
    {
     "data": {
      "text/plain": [
       "array(['Breakfast', 'Beef & Pork', 'Chicken & Fish', 'Salads',\n",
       "       'Snacks & Sides', 'Desserts', 'Beverages', 'Coffee & Tea',\n",
       "       'Smoothies & Shakes'], dtype=object)"
      ]
     },
     "execution_count": 86,
     "metadata": {},
     "output_type": "execute_result"
    }
   ],
   "source": [
    "df.Category.unique()"
   ]
  },
  {
   "cell_type": "code",
   "execution_count": 87,
   "metadata": {},
   "outputs": [],
   "source": [
    "bf = df[df.Category == 'Breakfast']\n",
    "bp = df[df.Category == 'Beef & Pork']\n",
    "cf = df[df.Category == 'Chicken & Fish']\n",
    "s = df[df.Category == 'Salads']\n",
    "sn = df[df.Category == 'Snacks & Sides']\n",
    "d = df[df.Category == 'Desserts'] \n",
    "b = df[df.Category == 'Beverages']\n",
    "ct = df[df.Category == 'Coffee & Tea']\n",
    "sm = df[df.Category == 'Smoothies & Shakes']"
   ]
  },
  {
   "cell_type": "markdown",
   "metadata": {},
   "source": [
    "### Average Calories from Each Meal Menu Category\n",
    "#### Meals (exclude Drinks)"
   ]
  },
  {
   "cell_type": "code",
   "execution_count": 88,
   "metadata": {},
   "outputs": [
    {
     "data": {
      "image/png": "[encoded data removed]",
      "text/plain": [
       "<Figure size 1080x720 with 1 Axes>"
      ]
     },
     "metadata": {
      "needs_background": "light"
     },
     "output_type": "display_data"
    }
   ],
   "source": [
    "cal_avg_bf = round(bf['Calories'].mean(axis=0),2)\n",
    "cal_avg_bp = round(bp['Calories'].mean(axis=0),2)\n",
    "cal_avg_cf = round(cf['Calories'].mean(axis=0),2)\n",
    "cal_avg_s  = round(s['Calories'].mean(axis=0),2)\n",
    "cal_avg_sn = round(sn['Calories'].mean(axis=0),2)\n",
    "cal_avg_d  = round(d['Calories'].mean(axis=0),2)\n",
    "\n",
    "cal_avg_cat = [cal_avg_bf,cal_avg_bp,cal_avg_cf,cal_avg_s,cal_avg_sn,cal_avg_d]\n",
    "cat = ['Breakfast', 'Beef & Pork', 'Chicken & Fish', 'Salads', 'Snacks & Sides', 'Desserts']\n",
    "cal_avg = pd.DataFrame({'Average Calories': cal_avg_cat}, index=cat)\n",
    "ax = cal_avg.plot.bar(rot=0, color='blue', figsize=(15,10), title='Average Calories in McDonald Meals (in cal)', legend=True)\n",
    "for i in ax.patches:\n",
    "    ax.annotate(str(i.get_height()), (i.get_x() * 1.005, i.get_height() * 1.015))"
   ]
  },
  {
   "cell_type": "markdown",
   "metadata": {},
   "source": [
    "#### Meals (include Drinks)"
   ]
  },
  {
   "cell_type": "code",
   "execution_count": 89,
   "metadata": {},
   "outputs": [
    {
     "data": {
      "image/png": "[encoded data removed]",
      "text/plain": [
       "<Figure size 1080x720 with 1 Axes>"
      ]
     },
     "metadata": {
      "needs_background": "light"
     },
     "output_type": "display_data"
    }
   ],
   "source": [
    "cal_avg_b = round(b['Calories'].mean(axis=0),2)\n",
    "cal_avg_ct = round(ct['Calories'].mean(axis=0),2)\n",
    "cal_avg_sm = round(sm['Calories'].mean(axis=0),2)\n",
    "\n",
    "cal_avg_catall = [cal_avg_bf, cal_avg_bp, cal_avg_cf,\n",
    "                  cal_avg_s, cal_avg_sn, cal_avg_d,\n",
    "                  cal_avg_b, cal_avg_ct, cal_avg_sm]\n",
    "catall = ['Breakfast', 'Beef & Pork', 'Chicken & Fish',\n",
    "          'Salads', 'Snacks & Sides', 'Desserts',\n",
    "          'Beverages', 'Coffee & Tea', 'Smoothies & Shakes']\n",
    "cal_avg_all = pd.DataFrame({'Average Calories': cal_avg_catall}, index=catall)\n",
    "ax = cal_avg_all.plot.bar(rot=0, color='blue', figsize=(15,10), title='Average Calories in McDonald Meals (in cal)', legend=True)\n",
    "for i in ax.patches:\n",
    "    ax.annotate(str(i.get_height()), (i.get_x() * 1.005, i.get_height() * 1.015))"
   ]
  },
  {
   "cell_type": "markdown",
   "metadata": {},
   "source": [
    "### Drinks Contribution in Overall Caloric Intake"
   ]
  },
  {
   "cell_type": "markdown",
   "metadata": {},
   "source": [
    "#### Beverages"
   ]
  },
  {
   "cell_type": "code",
   "execution_count": 90,
   "metadata": {},
   "outputs": [
    {
     "data": {
      "text/html": [
       "<div>\n",
       "<style scoped>\n",
       "    .dataframe tbody tr th:only-of-type {\n",
       "        vertical-align: middle;\n",
       "    }\n",
       "\n",
       "    .dataframe tbody tr th {\n",
       "        vertical-align: top;\n",
       "    }\n",
       "\n",
       "    .dataframe thead th {\n",
       "        text-align: right;\n",
       "    }\n",
       "</style>\n",
       "<table border=\"1\" class=\"dataframe\">\n",
       "  <thead>\n",
       "    <tr style=\"text-align: right;\">\n",
       "      <th></th>\n",
       "      <th>Item</th>\n",
       "      <th>Calories</th>\n",
       "    </tr>\n",
       "  </thead>\n",
       "  <tbody>\n",
       "    <tr>\n",
       "      <th>110</th>\n",
       "      <td>Coca-Cola Classic (Small)</td>\n",
       "      <td>140</td>\n",
       "    </tr>\n",
       "    <tr>\n",
       "      <th>111</th>\n",
       "      <td>Coca-Cola Classic (Medium)</td>\n",
       "      <td>200</td>\n",
       "    </tr>\n",
       "    <tr>\n",
       "      <th>112</th>\n",
       "      <td>Coca-Cola Classic (Large)</td>\n",
       "      <td>280</td>\n",
       "    </tr>\n",
       "    <tr>\n",
       "      <th>113</th>\n",
       "      <td>Coca-Cola Classic (Child)</td>\n",
       "      <td>100</td>\n",
       "    </tr>\n",
       "    <tr>\n",
       "      <th>114</th>\n",
       "      <td>Diet Coke (Small)</td>\n",
       "      <td>0</td>\n",
       "    </tr>\n",
       "    <tr>\n",
       "      <th>115</th>\n",
       "      <td>Diet Coke (Medium)</td>\n",
       "      <td>0</td>\n",
       "    </tr>\n",
       "    <tr>\n",
       "      <th>116</th>\n",
       "      <td>Diet Coke (Large)</td>\n",
       "      <td>0</td>\n",
       "    </tr>\n",
       "    <tr>\n",
       "      <th>117</th>\n",
       "      <td>Diet Coke (Child)</td>\n",
       "      <td>0</td>\n",
       "    </tr>\n",
       "    <tr>\n",
       "      <th>118</th>\n",
       "      <td>Dr Pepper (Small)</td>\n",
       "      <td>140</td>\n",
       "    </tr>\n",
       "    <tr>\n",
       "      <th>119</th>\n",
       "      <td>Dr Pepper (Medium)</td>\n",
       "      <td>190</td>\n",
       "    </tr>\n",
       "    <tr>\n",
       "      <th>120</th>\n",
       "      <td>Dr Pepper (Large)</td>\n",
       "      <td>270</td>\n",
       "    </tr>\n",
       "    <tr>\n",
       "      <th>121</th>\n",
       "      <td>Dr Pepper (Child)</td>\n",
       "      <td>100</td>\n",
       "    </tr>\n",
       "    <tr>\n",
       "      <th>122</th>\n",
       "      <td>Diet Dr Pepper (Small)</td>\n",
       "      <td>0</td>\n",
       "    </tr>\n",
       "    <tr>\n",
       "      <th>123</th>\n",
       "      <td>Diet Dr Pepper (Medium)</td>\n",
       "      <td>0</td>\n",
       "    </tr>\n",
       "    <tr>\n",
       "      <th>124</th>\n",
       "      <td>Diet Dr Pepper (Large)</td>\n",
       "      <td>0</td>\n",
       "    </tr>\n",
       "    <tr>\n",
       "      <th>125</th>\n",
       "      <td>Diet Dr Pepper (Child)</td>\n",
       "      <td>0</td>\n",
       "    </tr>\n",
       "    <tr>\n",
       "      <th>126</th>\n",
       "      <td>Sprite (Small)</td>\n",
       "      <td>140</td>\n",
       "    </tr>\n",
       "    <tr>\n",
       "      <th>127</th>\n",
       "      <td>Sprite (Medium)</td>\n",
       "      <td>200</td>\n",
       "    </tr>\n",
       "    <tr>\n",
       "      <th>128</th>\n",
       "      <td>Sprite (Large)</td>\n",
       "      <td>280</td>\n",
       "    </tr>\n",
       "    <tr>\n",
       "      <th>129</th>\n",
       "      <td>Sprite (Child)</td>\n",
       "      <td>100</td>\n",
       "    </tr>\n",
       "    <tr>\n",
       "      <th>130</th>\n",
       "      <td>1% Low Fat Milk Jug</td>\n",
       "      <td>100</td>\n",
       "    </tr>\n",
       "    <tr>\n",
       "      <th>131</th>\n",
       "      <td>Fat Free Chocolate Milk Jug</td>\n",
       "      <td>130</td>\n",
       "    </tr>\n",
       "    <tr>\n",
       "      <th>132</th>\n",
       "      <td>Minute Maid 100% Apple Juice Box</td>\n",
       "      <td>80</td>\n",
       "    </tr>\n",
       "    <tr>\n",
       "      <th>133</th>\n",
       "      <td>Minute Maid Orange Juice (Small)</td>\n",
       "      <td>150</td>\n",
       "    </tr>\n",
       "    <tr>\n",
       "      <th>134</th>\n",
       "      <td>Minute Maid Orange Juice (Medium)</td>\n",
       "      <td>190</td>\n",
       "    </tr>\n",
       "    <tr>\n",
       "      <th>135</th>\n",
       "      <td>Minute Maid Orange Juice (Large)</td>\n",
       "      <td>280</td>\n",
       "    </tr>\n",
       "    <tr>\n",
       "      <th>136</th>\n",
       "      <td>Dasani Water Bottle</td>\n",
       "      <td>0</td>\n",
       "    </tr>\n",
       "  </tbody>\n",
       "</table>\n",
       "</div>"
      ],
      "text/plain": [
       "                                  Item  Calories\n",
       "110          Coca-Cola Classic (Small)       140\n",
       "111         Coca-Cola Classic (Medium)       200\n",
       "112          Coca-Cola Classic (Large)       280\n",
       "113          Coca-Cola Classic (Child)       100\n",
       "114                  Diet Coke (Small)         0\n",
       "115                 Diet Coke (Medium)         0\n",
       "116                  Diet Coke (Large)         0\n",
       "117                  Diet Coke (Child)         0\n",
       "118                  Dr Pepper (Small)       140\n",
       "119                 Dr Pepper (Medium)       190\n",
       "120                  Dr Pepper (Large)       270\n",
       "121                  Dr Pepper (Child)       100\n",
       "122             Diet Dr Pepper (Small)         0\n",
       "123            Diet Dr Pepper (Medium)         0\n",
       "124             Diet Dr Pepper (Large)         0\n",
       "125             Diet Dr Pepper (Child)         0\n",
       "126                     Sprite (Small)       140\n",
       "127                    Sprite (Medium)       200\n",
       "128                     Sprite (Large)       280\n",
       "129                     Sprite (Child)       100\n",
       "130                1% Low Fat Milk Jug       100\n",
       "131        Fat Free Chocolate Milk Jug       130\n",
       "132   Minute Maid 100% Apple Juice Box        80\n",
       "133   Minute Maid Orange Juice (Small)       150\n",
       "134  Minute Maid Orange Juice (Medium)       190\n",
       "135   Minute Maid Orange Juice (Large)       280\n",
       "136                Dasani Water Bottle         0"
      ]
     },
     "execution_count": 90,
     "metadata": {},
     "output_type": "execute_result"
    }
   ],
   "source": [
    "cal_b = pd.DataFrame({'Item': b.Item, 'Calories': b.Calories})\n",
    "cal_b"
   ]
  },
  {
   "cell_type": "code",
   "execution_count": 91,
   "metadata": {},
   "outputs": [
    {
     "name": "stdout",
     "output_type": "stream",
     "text": [
      "Average calories in 'Beverages' category :  113.7037 cal.\n"
     ]
    }
   ],
   "source": [
    "b_avg = round(b['Calories'].mean(axis=0),4)\n",
    "print(\"Average calories in 'Beverages' category : \", b_avg, 'cal.')"
   ]
  },
  {
   "cell_type": "code",
   "execution_count": 92,
   "metadata": {},
   "outputs": [
    {
     "name": "stdout",
     "output_type": "stream",
     "text": [
      " McD Beverages' contribution in caloric intake :  0.0569\n"
     ]
    }
   ],
   "source": [
    "b_cont = round(b_avg/2000,4)\n",
    "print(\" McD Beverages' contribution in caloric intake : \", b_cont)"
   ]
  },
  {
   "cell_type": "markdown",
   "metadata": {},
   "source": [
    "#### Coffee & Tea"
   ]
  },
  {
   "cell_type": "code",
   "execution_count": 93,
   "metadata": {},
   "outputs": [
    {
     "data": {
      "text/html": [
       "<div>\n",
       "<style scoped>\n",
       "    .dataframe tbody tr th:only-of-type {\n",
       "        vertical-align: middle;\n",
       "    }\n",
       "\n",
       "    .dataframe tbody tr th {\n",
       "        vertical-align: top;\n",
       "    }\n",
       "\n",
       "    .dataframe thead th {\n",
       "        text-align: right;\n",
       "    }\n",
       "</style>\n",
       "<table border=\"1\" class=\"dataframe\">\n",
       "  <thead>\n",
       "    <tr style=\"text-align: right;\">\n",
       "      <th></th>\n",
       "      <th>Item</th>\n",
       "      <th>Calories</th>\n",
       "    </tr>\n",
       "  </thead>\n",
       "  <tbody>\n",
       "    <tr>\n",
       "      <th>137</th>\n",
       "      <td>Iced Tea (Small)</td>\n",
       "      <td>0</td>\n",
       "    </tr>\n",
       "    <tr>\n",
       "      <th>138</th>\n",
       "      <td>Iced Tea (Medium)</td>\n",
       "      <td>0</td>\n",
       "    </tr>\n",
       "    <tr>\n",
       "      <th>139</th>\n",
       "      <td>Iced Tea (Large)</td>\n",
       "      <td>0</td>\n",
       "    </tr>\n",
       "    <tr>\n",
       "      <th>140</th>\n",
       "      <td>Iced Tea (Child)</td>\n",
       "      <td>0</td>\n",
       "    </tr>\n",
       "    <tr>\n",
       "      <th>141</th>\n",
       "      <td>Sweet Tea (Small)</td>\n",
       "      <td>150</td>\n",
       "    </tr>\n",
       "    <tr>\n",
       "      <th>...</th>\n",
       "      <td>...</td>\n",
       "      <td>...</td>\n",
       "    </tr>\n",
       "    <tr>\n",
       "      <th>227</th>\n",
       "      <td>Frappé Caramel (Medium)</td>\n",
       "      <td>550</td>\n",
       "    </tr>\n",
       "    <tr>\n",
       "      <th>228</th>\n",
       "      <td>Frappé Caramel (Large)</td>\n",
       "      <td>670</td>\n",
       "    </tr>\n",
       "    <tr>\n",
       "      <th>229</th>\n",
       "      <td>Frappé Chocolate Chip (Small)</td>\n",
       "      <td>530</td>\n",
       "    </tr>\n",
       "    <tr>\n",
       "      <th>230</th>\n",
       "      <td>Frappé Chocolate Chip (Medium)</td>\n",
       "      <td>630</td>\n",
       "    </tr>\n",
       "    <tr>\n",
       "      <th>231</th>\n",
       "      <td>Frappé Chocolate Chip (Large)</td>\n",
       "      <td>760</td>\n",
       "    </tr>\n",
       "  </tbody>\n",
       "</table>\n",
       "<p>95 rows × 2 columns</p>\n",
       "</div>"
      ],
      "text/plain": [
       "                               Item  Calories\n",
       "137                Iced Tea (Small)         0\n",
       "138               Iced Tea (Medium)         0\n",
       "139                Iced Tea (Large)         0\n",
       "140                Iced Tea (Child)         0\n",
       "141               Sweet Tea (Small)       150\n",
       "..                              ...       ...\n",
       "227         Frappé Caramel (Medium)       550\n",
       "228          Frappé Caramel (Large)       670\n",
       "229   Frappé Chocolate Chip (Small)       530\n",
       "230  Frappé Chocolate Chip (Medium)       630\n",
       "231   Frappé Chocolate Chip (Large)       760\n",
       "\n",
       "[95 rows x 2 columns]"
      ]
     },
     "execution_count": 93,
     "metadata": {},
     "output_type": "execute_result"
    }
   ],
   "source": [
    "cal_ct = pd.DataFrame({'Item': ct.Item, 'Calories': ct.Calories})\n",
    "cal_ct"
   ]
  },
  {
   "cell_type": "code",
   "execution_count": 94,
   "metadata": {},
   "outputs": [
    {
     "name": "stdout",
     "output_type": "stream",
     "text": [
      "Average calories in 'Coffee & Tea' category :  283.8947 cal.\n"
     ]
    }
   ],
   "source": [
    "ct_avg = round(ct['Calories'].mean(axis=0),4)\n",
    "print(\"Average calories in 'Coffee & Tea' category : \", ct_avg, 'cal.')"
   ]
  },
  {
   "cell_type": "code",
   "execution_count": 95,
   "metadata": {},
   "outputs": [
    {
     "name": "stdout",
     "output_type": "stream",
     "text": [
      " McD Coffee & Tea' contribution in caloric intake :  0.1419\n"
     ]
    }
   ],
   "source": [
    "ct_cont = round(ct_avg/2000,4)\n",
    "print(\" McD Coffee & Tea' contribution in caloric intake : \", ct_cont)"
   ]
  },
  {
   "cell_type": "markdown",
   "metadata": {},
   "source": [
    "#### Smoothies & Shakes"
   ]
  },
  {
   "cell_type": "code",
   "execution_count": 96,
   "metadata": {},
   "outputs": [
    {
     "data": {
      "text/html": [
       "<div>\n",
       "<style scoped>\n",
       "    .dataframe tbody tr th:only-of-type {\n",
       "        vertical-align: middle;\n",
       "    }\n",
       "\n",
       "    .dataframe tbody tr th {\n",
       "        vertical-align: top;\n",
       "    }\n",
       "\n",
       "    .dataframe thead th {\n",
       "        text-align: right;\n",
       "    }\n",
       "</style>\n",
       "<table border=\"1\" class=\"dataframe\">\n",
       "  <thead>\n",
       "    <tr style=\"text-align: right;\">\n",
       "      <th></th>\n",
       "      <th>Item</th>\n",
       "      <th>Calories</th>\n",
       "    </tr>\n",
       "  </thead>\n",
       "  <tbody>\n",
       "    <tr>\n",
       "      <th>232</th>\n",
       "      <td>Blueberry Pomegranate Smoothie (Small)</td>\n",
       "      <td>220</td>\n",
       "    </tr>\n",
       "    <tr>\n",
       "      <th>233</th>\n",
       "      <td>Blueberry Pomegranate Smoothie (Medium)</td>\n",
       "      <td>260</td>\n",
       "    </tr>\n",
       "    <tr>\n",
       "      <th>234</th>\n",
       "      <td>Blueberry Pomegranate Smoothie (Large)</td>\n",
       "      <td>340</td>\n",
       "    </tr>\n",
       "    <tr>\n",
       "      <th>235</th>\n",
       "      <td>Strawberry Banana Smoothie (Small)</td>\n",
       "      <td>210</td>\n",
       "    </tr>\n",
       "    <tr>\n",
       "      <th>236</th>\n",
       "      <td>Strawberry Banana Smoothie (Medium)</td>\n",
       "      <td>250</td>\n",
       "    </tr>\n",
       "    <tr>\n",
       "      <th>237</th>\n",
       "      <td>Strawberry Banana Smoothie (Large)</td>\n",
       "      <td>330</td>\n",
       "    </tr>\n",
       "    <tr>\n",
       "      <th>238</th>\n",
       "      <td>Mango Pineapple Smoothie (Small)</td>\n",
       "      <td>210</td>\n",
       "    </tr>\n",
       "    <tr>\n",
       "      <th>239</th>\n",
       "      <td>Mango Pineapple Smoothie (Medium)</td>\n",
       "      <td>260</td>\n",
       "    </tr>\n",
       "    <tr>\n",
       "      <th>240</th>\n",
       "      <td>Mango Pineapple Smoothie (Large)</td>\n",
       "      <td>340</td>\n",
       "    </tr>\n",
       "    <tr>\n",
       "      <th>241</th>\n",
       "      <td>Vanilla Shake (Small)</td>\n",
       "      <td>530</td>\n",
       "    </tr>\n",
       "    <tr>\n",
       "      <th>242</th>\n",
       "      <td>Vanilla Shake (Medium)</td>\n",
       "      <td>660</td>\n",
       "    </tr>\n",
       "    <tr>\n",
       "      <th>243</th>\n",
       "      <td>Vanilla Shake (Large)</td>\n",
       "      <td>820</td>\n",
       "    </tr>\n",
       "    <tr>\n",
       "      <th>244</th>\n",
       "      <td>Strawberry Shake (Small)</td>\n",
       "      <td>550</td>\n",
       "    </tr>\n",
       "    <tr>\n",
       "      <th>245</th>\n",
       "      <td>Strawberry Shake (Medium)</td>\n",
       "      <td>690</td>\n",
       "    </tr>\n",
       "    <tr>\n",
       "      <th>246</th>\n",
       "      <td>Strawberry Shake (Large)</td>\n",
       "      <td>850</td>\n",
       "    </tr>\n",
       "    <tr>\n",
       "      <th>247</th>\n",
       "      <td>Chocolate Shake (Small)</td>\n",
       "      <td>560</td>\n",
       "    </tr>\n",
       "    <tr>\n",
       "      <th>248</th>\n",
       "      <td>Chocolate Shake (Medium)</td>\n",
       "      <td>700</td>\n",
       "    </tr>\n",
       "    <tr>\n",
       "      <th>249</th>\n",
       "      <td>Chocolate Shake (Large)</td>\n",
       "      <td>850</td>\n",
       "    </tr>\n",
       "    <tr>\n",
       "      <th>250</th>\n",
       "      <td>Shamrock Shake (Medium)</td>\n",
       "      <td>660</td>\n",
       "    </tr>\n",
       "    <tr>\n",
       "      <th>251</th>\n",
       "      <td>Shamrock Shake (Large)</td>\n",
       "      <td>820</td>\n",
       "    </tr>\n",
       "    <tr>\n",
       "      <th>252</th>\n",
       "      <td>McFlurry with M&amp;M’s Candies (Small)</td>\n",
       "      <td>650</td>\n",
       "    </tr>\n",
       "    <tr>\n",
       "      <th>253</th>\n",
       "      <td>McFlurry with M&amp;M’s Candies (Medium)</td>\n",
       "      <td>930</td>\n",
       "    </tr>\n",
       "    <tr>\n",
       "      <th>254</th>\n",
       "      <td>McFlurry with M&amp;M’s Candies (Snack)</td>\n",
       "      <td>430</td>\n",
       "    </tr>\n",
       "    <tr>\n",
       "      <th>255</th>\n",
       "      <td>McFlurry with Oreo Cookies (Small)</td>\n",
       "      <td>510</td>\n",
       "    </tr>\n",
       "    <tr>\n",
       "      <th>256</th>\n",
       "      <td>McFlurry with Oreo Cookies (Medium)</td>\n",
       "      <td>690</td>\n",
       "    </tr>\n",
       "    <tr>\n",
       "      <th>257</th>\n",
       "      <td>McFlurry with Oreo Cookies (Snack)</td>\n",
       "      <td>340</td>\n",
       "    </tr>\n",
       "    <tr>\n",
       "      <th>258</th>\n",
       "      <td>McFlurry with Reese's Peanut Butter Cups (Medium)</td>\n",
       "      <td>810</td>\n",
       "    </tr>\n",
       "    <tr>\n",
       "      <th>259</th>\n",
       "      <td>McFlurry with Reese's Peanut Butter Cups (Snack)</td>\n",
       "      <td>410</td>\n",
       "    </tr>\n",
       "  </tbody>\n",
       "</table>\n",
       "</div>"
      ],
      "text/plain": [
       "                                                  Item  Calories\n",
       "232             Blueberry Pomegranate Smoothie (Small)       220\n",
       "233            Blueberry Pomegranate Smoothie (Medium)       260\n",
       "234             Blueberry Pomegranate Smoothie (Large)       340\n",
       "235                 Strawberry Banana Smoothie (Small)       210\n",
       "236                Strawberry Banana Smoothie (Medium)       250\n",
       "237                 Strawberry Banana Smoothie (Large)       330\n",
       "238                   Mango Pineapple Smoothie (Small)       210\n",
       "239                  Mango Pineapple Smoothie (Medium)       260\n",
       "240                   Mango Pineapple Smoothie (Large)       340\n",
       "241                              Vanilla Shake (Small)       530\n",
       "242                             Vanilla Shake (Medium)       660\n",
       "243                              Vanilla Shake (Large)       820\n",
       "244                           Strawberry Shake (Small)       550\n",
       "245                          Strawberry Shake (Medium)       690\n",
       "246                           Strawberry Shake (Large)       850\n",
       "247                            Chocolate Shake (Small)       560\n",
       "248                           Chocolate Shake (Medium)       700\n",
       "249                            Chocolate Shake (Large)       850\n",
       "250                            Shamrock Shake (Medium)       660\n",
       "251                             Shamrock Shake (Large)       820\n",
       "252                McFlurry with M&M’s Candies (Small)       650\n",
       "253               McFlurry with M&M’s Candies (Medium)       930\n",
       "254                McFlurry with M&M’s Candies (Snack)       430\n",
       "255                 McFlurry with Oreo Cookies (Small)       510\n",
       "256                McFlurry with Oreo Cookies (Medium)       690\n",
       "257                 McFlurry with Oreo Cookies (Snack)       340\n",
       "258  McFlurry with Reese's Peanut Butter Cups (Medium)       810\n",
       "259   McFlurry with Reese's Peanut Butter Cups (Snack)       410"
      ]
     },
     "execution_count": 96,
     "metadata": {},
     "output_type": "execute_result"
    }
   ],
   "source": [
    "cal_sm = pd.DataFrame({'Item': sm.Item, 'Calories': sm.Calories})\n",
    "cal_sm"
   ]
  },
  {
   "cell_type": "code",
   "execution_count": 97,
   "metadata": {},
   "outputs": [
    {
     "name": "stdout",
     "output_type": "stream",
     "text": [
      "Average calories in 'Smoothies and Shakes' category :  531.4286 cal.\n"
     ]
    }
   ],
   "source": [
    "sm_avg = round(sm['Calories'].mean(axis=0),4)\n",
    "print(\"Average calories in 'Smoothies and Shakes' category : \", sm_avg, 'cal.')"
   ]
  },
  {
   "cell_type": "code",
   "execution_count": 98,
   "metadata": {},
   "outputs": [
    {
     "name": "stdout",
     "output_type": "stream",
     "text": [
      " McD Smoothies & Shakes' contribution in caloric intake :  0.2657\n"
     ]
    }
   ],
   "source": [
    "sm_cont = round(sm_avg/2000,4)\n",
    "print(\" McD Smoothies & Shakes' contribution in caloric intake : \", sm_cont)"
   ]
  },
  {
   "cell_type": "markdown",
   "metadata": {},
   "source": [
    "### Average Drinks Contribution in Caloric Intake"
   ]
  },
  {
   "cell_type": "code",
   "execution_count": 99,
   "metadata": {},
   "outputs": [
    {
     "name": "stdout",
     "output_type": "stream",
     "text": [
      "Average calories in McD drinks :  299.4667 cal.\n",
      "McD drinks' contribution in human's caloric intake :  0.1497\n"
     ]
    }
   ],
   "source": [
    "#From the previous tables we found out that the 109th to 258th data are drinks, so the last 150 data are drinks.\n",
    "\n",
    "drink = df.tail(150)\n",
    "drink_avg = round(drink['Calories'].mean(axis=0),4)\n",
    "print(\"Average calories in McD drinks : \", drink_avg, 'cal.')\n",
    "\n",
    "drink_cal_in = round(drink_avg/2000,4)\n",
    "print(\"McD drinks' contribution in human's caloric intake : \", drink_cal_in)"
   ]
  },
  {
   "cell_type": "code",
   "execution_count": 100,
   "metadata": {},
   "outputs": [
    {
     "data": {
      "image/png": "[encoded data removed]",
      "text/plain": [
       "<Figure size 360x288 with 1 Axes>"
      ]
     },
     "metadata": {
      "needs_background": "light"
     },
     "output_type": "display_data"
    }
   ],
   "source": [
    "ct_dr = [b_cont, ct_cont, sm_cont]\n",
    "catdr = ['Beverages', 'Coffee & Tea', 'Smoothies & Shakes']\n",
    "ct_drink = pd.DataFrame({'Calories Contribution': ct_dr}, index=catdr)\n",
    "ax = ct_drink.plot.bar(rot=0, color='blue', figsize=(5,4), title='Average Caloric Contribution in McDonalds Drinks', legend=True)\n",
    "for i in ax.patches:\n",
    "    ax.annotate(str(i.get_height()), (i.get_x() * 1.005, i.get_height() * 1.015))"
   ]
  },
  {
   "cell_type": "code",
   "execution_count": 101,
   "metadata": {},
   "outputs": [
    {
     "data": {
      "image/png": "[encoded data removed]",
      "text/plain": [
       "<Figure size 504x288 with 1 Axes>"
      ]
     },
     "metadata": {
      "needs_background": "light"
     },
     "output_type": "display_data"
    }
   ],
   "source": [
    "ct_dr_all = [b_cont, ct_cont, sm_cont, drink_cal_in]\n",
    "catdr_all = ['Beverages', 'Coffee & Tea', 'Smoothies & Shakes', 'All Drinks']\n",
    "ct_drink_all = pd.DataFrame({'Calories Contribution': ct_dr_all}, index=catdr_all)\n",
    "ax = ct_drink_all.plot.bar(rot=0, color='blue', figsize=(7,4), title='Average Caloric Contribution in McDonalds Drinks (all)', legend=True)\n",
    "for i in ax.patches:\n",
    "    ax.annotate(str(i.get_height()), (i.get_x() * 1.005, i.get_height() * 1.015))"
   ]
  },
  {
   "cell_type": "markdown",
   "metadata": {},
   "source": [
    "### Nutritional Value Difference between Crispy Chicken and Grilled Chicken"
   ]
  },
  {
   "cell_type": "markdown",
   "metadata": {},
   "source": [
    "#### 1. Calories"
   ]
  },
  {
   "cell_type": "code",
   "execution_count": 102,
   "metadata": {},
   "outputs": [
    {
     "name": "stdout",
     "output_type": "stream",
     "text": [
      "Average calories in Crispy Chicken category :   520.0 cal.\n",
      "Average calories in Grilled Chicken category :   386.92 cal.\n"
     ]
    }
   ],
   "source": [
    "crispy = df[df['Item'].str.contains('Crispy Chicken')]\n",
    "crispy_cal_avg = round(crispy.Calories.mean(axis=0),2)\n",
    "print(\"Average calories in Crispy Chicken category :  \", crispy_cal_avg, \"cal.\")\n",
    "\n",
    "grilled = df[df['Item'].str.contains('Grilled Chicken')]\n",
    "grilled_cal_avg = round(grilled.Calories.mean(axis=0),2)\n",
    "print(\"Average calories in Grilled Chicken category :  \", grilled_cal_avg, \"cal.\")"
   ]
  },
  {
   "cell_type": "markdown",
   "metadata": {},
   "source": [
    "#### 2. Cholesterol"
   ]
  },
  {
   "cell_type": "code",
   "execution_count": 103,
   "metadata": {},
   "outputs": [
    {
     "name": "stdout",
     "output_type": "stream",
     "text": [
      "Average cholesterol in Crispy Chicken category :   19.5 %.\n",
      "Average cholesterol in Grilled Chicken category :   25.23 %.\n"
     ]
    }
   ],
   "source": [
    "crispy_chol_avg = round(crispy['Cholesterol (% Daily Value)'].mean(axis=0),2)\n",
    "print(\"Average cholesterol in Crispy Chicken category :  \", crispy_chol_avg, \"%.\")\n",
    "\n",
    "grilled_chol_avg = round(grilled['Cholesterol (% Daily Value)'].mean(axis=0),2)\n",
    "print(\"Average cholesterol in Grilled Chicken category :  \", grilled_chol_avg, \"%.\")"
   ]
  },
  {
   "cell_type": "markdown",
   "metadata": {},
   "source": [
    "#### 3. Sodium"
   ]
  },
  {
   "cell_type": "code",
   "execution_count": 104,
   "metadata": {},
   "outputs": [
    {
     "name": "stdout",
     "output_type": "stream",
     "text": [
      "Average sodium in Crispy Chicken category :   47.86 %.\n",
      "Average sodium in Grilled Chicken category :   42.38 %.\n"
     ]
    }
   ],
   "source": [
    "crispy_sod_avg = round(crispy['Sodium (% Daily Value)'].mean(axis=0),2)\n",
    "print(\"Average sodium in Crispy Chicken category :  \", crispy_sod_avg, \"%.\")\n",
    "\n",
    "grilled_sod_avg = round(grilled['Sodium (% Daily Value)'].mean(axis=0),2)\n",
    "print(\"Average sodium in Grilled Chicken category :  \", grilled_sod_avg, \"%.\")"
   ]
  },
  {
   "cell_type": "markdown",
   "metadata": {},
   "source": [
    "#### 4. Fiber"
   ]
  },
  {
   "cell_type": "code",
   "execution_count": 105,
   "metadata": {},
   "outputs": [
    {
     "name": "stdout",
     "output_type": "stream",
     "text": [
      "Average Dietary Fiber in Crispy Chicken category :   12.5 %.\n",
      "Average Dietary Fiber in Grilled Chicken category :   42.38 %.\n"
     ]
    }
   ],
   "source": [
    "crispy_fib_avg = round(crispy['Dietary Fiber (% Daily Value)'].mean(axis=0),2)\n",
    "print(\"Average Dietary Fiber in Crispy Chicken category :  \", crispy_fib_avg, \"%.\")\n",
    "\n",
    "grilled_fib_avg = round(grilled['Sodium (% Daily Value)'].mean(axis=0),2)\n",
    "print(\"Average Dietary Fiber in Grilled Chicken category :  \", grilled_fib_avg, \"%.\")"
   ]
  },
  {
   "cell_type": "markdown",
   "metadata": {},
   "source": [
    "#### 5. Protein"
   ]
  },
  {
   "cell_type": "code",
   "execution_count": 106,
   "metadata": {},
   "outputs": [
    {
     "name": "stdout",
     "output_type": "stream",
     "text": [
      "Average Protein in Crispy Chicken category :   24.93 mg.\n",
      "Average Protein in Grilled Chicken category :   28.62 mg.\n"
     ]
    }
   ],
   "source": [
    "crispy_pro_avg = round(crispy['Protein'].mean(axis=0),2)\n",
    "print(\"Average Protein in Crispy Chicken category :  \", crispy_pro_avg, \"mg.\")\n",
    "\n",
    "grilled_pro_avg = round(grilled['Protein'].mean(axis=0),2)\n",
    "print(\"Average Protein in Grilled Chicken category :  \", grilled_pro_avg, \"mg.\")"
   ]
  },
  {
   "cell_type": "markdown",
   "metadata": {},
   "source": [
    "#### 6. Vitamin A"
   ]
  },
  {
   "cell_type": "code",
   "execution_count": 107,
   "metadata": {},
   "outputs": [
    {
     "name": "stdout",
     "output_type": "stream",
     "text": [
      "Average Vitamin A in Crispy Chicken category :   39.0 %.\n",
      "Average Vitamin A in Grilled Chicken category :   43.23 %.\n"
     ]
    }
   ],
   "source": [
    "crispy_vitA_avg = round(crispy['Vitamin A (% Daily Value)'].mean(axis=0),2)\n",
    "print(\"Average Vitamin A in Crispy Chicken category :  \", crispy_vitA_avg, \"%.\")\n",
    "\n",
    "grilled_vitA_avg = round(grilled['Vitamin A (% Daily Value)'].mean(axis=0),2)\n",
    "print(\"Average Vitamin A in Grilled Chicken category :  \", grilled_vitA_avg, \"%.\")"
   ]
  },
  {
   "cell_type": "markdown",
   "metadata": {},
   "source": [
    "#### 7. Vitamin C"
   ]
  },
  {
   "cell_type": "code",
   "execution_count": 108,
   "metadata": {},
   "outputs": [
    {
     "name": "stdout",
     "output_type": "stream",
     "text": [
      "Average Vitamin C in Crispy Chicken category :   13.79 %.\n",
      "Average Vitamin C in Grilled Chicken category :   16.46 %.\n"
     ]
    }
   ],
   "source": [
    "crispy_vitC_avg = round(crispy['Vitamin C (% Daily Value)'].mean(axis=0),2)\n",
    "print(\"Average Vitamin C in Crispy Chicken category :  \", crispy_vitC_avg, \"%.\")\n",
    "\n",
    "grilled_vitC_avg = round(grilled['Vitamin C (% Daily Value)'].mean(axis=0),2)\n",
    "print(\"Average Vitamin C in Grilled Chicken category :  \", grilled_vitC_avg, \"%.\")"
   ]
  },
  {
   "cell_type": "markdown",
   "metadata": {},
   "source": [
    "#### 8. Calcium"
   ]
  },
  {
   "cell_type": "code",
   "execution_count": 109,
   "metadata": {},
   "outputs": [
    {
     "name": "stdout",
     "output_type": "stream",
     "text": [
      "Average Calcium in Crispy Chicken category :   16.64 %.\n",
      "Average Calcium in Grilled Chicken category :   16.38 %.\n"
     ]
    }
   ],
   "source": [
    "crispy_calc_avg = round(crispy['Calcium (% Daily Value)'].mean(axis=0),2)\n",
    "print(\"Average Calcium in Crispy Chicken category :  \", crispy_calc_avg, \"%.\")\n",
    "\n",
    "grilled_calc_avg = round(grilled['Calcium (% Daily Value)'].mean(axis=0),2)\n",
    "print(\"Average Calcium in Grilled Chicken category :  \", grilled_calc_avg, \"%.\")"
   ]
  },
  {
   "cell_type": "markdown",
   "metadata": {},
   "source": [
    "#### 9. Iron"
   ]
  },
  {
   "cell_type": "code",
   "execution_count": 110,
   "metadata": {},
   "outputs": [
    {
     "name": "stdout",
     "output_type": "stream",
     "text": [
      "Average Iron in Crispy Chicken category :   15.93 %.\n",
      "Average Iron in Grilled Chicken category :   16.0 %.\n"
     ]
    }
   ],
   "source": [
    "crispy_ir_avg = round(crispy['Iron (% Daily Value)'].mean(axis=0),2)\n",
    "print(\"Average Iron in Crispy Chicken category :  \", crispy_ir_avg, \"%.\")\n",
    "\n",
    "grilled_ir_avg = round(grilled['Iron (% Daily Value)'].mean(axis=0),2)\n",
    "print(\"Average Iron in Grilled Chicken category :  \", grilled_ir_avg, \"%.\")"
   ]
  },
  {
   "cell_type": "markdown",
   "metadata": {},
   "source": [
    "#### 10. Sugars"
   ]
  },
  {
   "cell_type": "code",
   "execution_count": 111,
   "metadata": {},
   "outputs": [
    {
     "name": "stdout",
     "output_type": "stream",
     "text": [
      "Average Sugar in Crispy Chicken category :  9.07 mg\n",
      "Average Sugar in Grilled Chicken category :  7.62 mg\n"
     ]
    }
   ],
   "source": [
    "crispy_sgr_avg = round(crispy['Sugars'].mean(axis=0), 2)\n",
    "print(\"Average Sugar in Crispy Chicken category : \", crispy_sgr_avg, \"mg\")\n",
    "\n",
    "grilled_sgr_avg = round(grilled['Sugars'].mean(axis=0), 2)\n",
    "print(\"Average Sugar in Grilled Chicken category : \", grilled_sgr_avg, \"mg\")"
   ]
  },
  {
   "cell_type": "markdown",
   "metadata": {},
   "source": [
    "### Visualization of Nutritional Value Comparison between Crispy Chicken and Grilled Chicken"
   ]
  },
  {
   "cell_type": "markdown",
   "metadata": {},
   "source": [
    "#### Calories"
   ]
  },
  {
   "cell_type": "code",
   "execution_count": 112,
   "metadata": {},
   "outputs": [
    {
     "data": {
      "image/png": "[encoded data removed]",
      "text/plain": [
       "<Figure size 432x288 with 1 Axes>"
      ]
     },
     "metadata": {
      "needs_background": "light"
     },
     "output_type": "display_data"
    }
   ],
   "source": [
    "nutr = ['Calories']\n",
    "vis_chicken = pd.DataFrame({'Nutrition': nutr, 'Crispy Chicken': crispy_cal_avg, \n",
    "                            'Grilled Chicken': grilled_cal_avg})\n",
    "ax = vis_chicken.plot.barh(x='Nutrition', y=['Crispy Chicken','Grilled Chicken'], stacked=False, figsize= (6,4), color=['yellow', 'blue'])\n",
    "ax.set_title(\"Calories Comparison between Crispy Chicken and Grilled Chicken (in cal)\")\n",
    "\n",
    "for i in ax.patches:\n",
    "    left, bottom, width, height = i.get_bbox().bounds\n",
    "    ax.annotate(str(width), xy=(left+width/2, bottom+height/2), \n",
    "                horizontalalignment='left', verticalalignment='center') "
   ]
  },
  {
   "cell_type": "markdown",
   "metadata": {},
   "source": [
    "#### Cholesterol, Sodium, Fiber, Vitamin A, Vitamin C, Calcium, Iron"
   ]
  },
  {
   "cell_type": "code",
   "execution_count": 113,
   "metadata": {},
   "outputs": [
    {
     "data": {
      "image/png": "[encoded data removed]",
      "text/plain": [
       "<Figure size 720x1080 with 1 Axes>"
      ]
     },
     "metadata": {
      "needs_background": "light"
     },
     "output_type": "display_data"
    }
   ],
   "source": [
    "nutri = ['Cholesterol','Sodium','Fiber','Vitamin A','Vitamin C','Calcium','Iron']\n",
    "vis_chicken = pd.DataFrame({'Nutrition': nutri, 'Crispy Chicken': [crispy_chol_avg,crispy_sod_avg,crispy_fib_avg,crispy_vitA_avg,\n",
    "                                                    crispy_vitC_avg,crispy_calc_avg,crispy_ir_avg], \n",
    "                            'Grilled Chicken': [grilled_chol_avg,grilled_sod_avg,grilled_fib_avg,grilled_vitA_avg,grilled_vitC_avg,\n",
    "                                          grilled_calc_avg,grilled_ir_avg]})\n",
    "ax = vis_chicken.plot.barh(x='Nutrition', y=['Crispy Chicken','Grilled Chicken'], stacked=False, figsize= (10,15), color=['red', 'green'])\n",
    "ax.set_title(\"Nutritional Value Comparison between Crispy Chicken and Grilled Chicken (in % Daily Value)\")\n",
    "\n",
    "for i in ax.patches:\n",
    "    left, bottom, width, height = i.get_bbox().bounds\n",
    "    ax.annotate(str(width), xy=(left+width/2, bottom+height/2), \n",
    "                horizontalalignment='left', verticalalignment='center') "
   ]
  },
  {
   "cell_type": "markdown",
   "metadata": {},
   "source": [
    "#### Protein, Sugars"
   ]
  },
  {
   "cell_type": "code",
   "execution_count": 114,
   "metadata": {},
   "outputs": [
    {
     "data": {
      "image/png": "[encoded data removed]",
      "text/plain": [
       "<Figure size 432x288 with 1 Axes>"
      ]
     },
     "metadata": {
      "needs_background": "light"
     },
     "output_type": "display_data"
    }
   ],
   "source": [
    "nutrii = ['Protein', 'Sugars']\n",
    "vis_chicken = pd.DataFrame({'Nutrition': nutrii, 'Crispy Chicken': crispy_pro_avg, \n",
    "                            'Grilled Chicken': grilled_pro_avg})\n",
    "ax = vis_chicken.plot.barh(x='Nutrition', y=['Crispy Chicken','Grilled Chicken'], stacked=False, figsize= (6,4), color=['grey', 'purple'])\n",
    "ax.set_title(\"Protein Comparison between Crispy Chicken and Grilled Chicken (in mg)\")\n",
    "\n",
    "for i in ax.patches:\n",
    "    left, bottom, width, height = i.get_bbox().bounds\n",
    "    ax.annotate(str(width), xy=(left+width/2, bottom+height/2), \n",
    "                horizontalalignment='left', verticalalignment='center') "
   ]
  },
  {
   "cell_type": "markdown",
   "metadata": {},
   "source": [
    "### Nutritional Value Difference between Egg White and Whole Egg"
   ]
  },
  {
   "cell_type": "markdown",
   "metadata": {},
   "source": [
    "#### 1. Calories"
   ]
  },
  {
   "cell_type": "code",
   "execution_count": 115,
   "metadata": {},
   "outputs": [
    {
     "name": "stdout",
     "output_type": "stream",
     "text": [
      "Average calories in Egg White category :   565.38 cal.\n",
      "Average calories in Whole Egg category :   506.67 cal.\n"
     ]
    }
   ],
   "source": [
    "ew = df[df['Item'].str.contains('Egg White')]\n",
    "ew_cal_avg = round(ew.Calories.mean(axis=0),2)\n",
    "print(\"Average calories in Egg White category :  \", ew_cal_avg, \"cal.\")\n",
    "\n",
    "we = df[df['Item'].str.contains('Egg')]\n",
    "we = we[~we['Item'].str.contains('White')]\n",
    "we_cal_avg = round(we.Calories.mean(axis=0),2)\n",
    "print(\"Average calories in Whole Egg category :  \", we_cal_avg, \"cal.\")"
   ]
  },
  {
   "cell_type": "markdown",
   "metadata": {},
   "source": [
    "#### 2. Cholesterol"
   ]
  },
  {
   "cell_type": "code",
   "execution_count": 116,
   "metadata": {},
   "outputs": [
    {
     "name": "stdout",
     "output_type": "stream",
     "text": [
      "Average cholesterol in Egg White category :   13.69 %.\n",
      "Average cholesterol in Whole Egg category :   89.25 %.\n"
     ]
    }
   ],
   "source": [
    "ew_chol_avg = round(ew['Cholesterol (% Daily Value)'].mean(axis=0),2)\n",
    "print(\"Average cholesterol in Egg White category :  \", ew_chol_avg, \"%.\")\n",
    "\n",
    "we_chol_avg = round(we['Cholesterol (% Daily Value)'].mean(axis=0),2)\n",
    "print(\"Average cholesterol in Whole Egg category :  \", we_chol_avg, \"%.\")"
   ]
  },
  {
   "cell_type": "markdown",
   "metadata": {},
   "source": [
    "#### 3. Sodium"
   ]
  },
  {
   "cell_type": "code",
   "execution_count": 117,
   "metadata": {},
   "outputs": [
    {
     "name": "stdout",
     "output_type": "stream",
     "text": [
      "Average sodium in Egg White category :   59.77 %.\n",
      "Average sodium in White Egg category :   51.25 %.\n"
     ]
    }
   ],
   "source": [
    "ew_sod_avg = round(ew['Sodium (% Daily Value)'].mean(axis=0),2)\n",
    "print(\"Average sodium in Egg White category :  \", ew_sod_avg, \"%.\")\n",
    "\n",
    "we_sod_avg = round(we['Sodium (% Daily Value)'].mean(axis=0),2)\n",
    "print(\"Average sodium in White Egg category :  \", we_sod_avg, \"%.\")"
   ]
  },
  {
   "cell_type": "markdown",
   "metadata": {},
   "source": [
    "#### 4. Fiber"
   ]
  },
  {
   "cell_type": "code",
   "execution_count": 118,
   "metadata": {},
   "outputs": [
    {
     "name": "stdout",
     "output_type": "stream",
     "text": [
      "Average Dietary Fiber in Egg White category :   13.85 %.\n",
      "Average Dietary Fiber in Whole Egg category :   51.25 %.\n"
     ]
    }
   ],
   "source": [
    "ew_fib_avg = round(ew['Dietary Fiber (% Daily Value)'].mean(axis=0),2)\n",
    "print(\"Average Dietary Fiber in Egg White category :  \", ew_fib_avg, \"%.\")\n",
    "\n",
    "we_fib_avg = round(we['Sodium (% Daily Value)'].mean(axis=0),2)\n",
    "print(\"Average Dietary Fiber in Whole Egg category :  \", we_fib_avg, \"%.\")"
   ]
  },
  {
   "cell_type": "markdown",
   "metadata": {},
   "source": [
    "#### 5. Protein"
   ]
  },
  {
   "cell_type": "code",
   "execution_count": 119,
   "metadata": {},
   "outputs": [
    {
     "name": "stdout",
     "output_type": "stream",
     "text": [
      "Average Protein in Egg White category :   23.69 mg.\n",
      "Average Protein in Whole Egg category :   22.08 mg.\n"
     ]
    }
   ],
   "source": [
    "ew_pro_avg = round(ew['Protein'].mean(axis=0),2)\n",
    "print(\"Average Protein in Egg White category :  \", ew_pro_avg, \"mg.\")\n",
    "\n",
    "we_pro_avg = round(we['Protein'].mean(axis=0),2)\n",
    "print(\"Average Protein in Whole Egg category :  \", we_pro_avg, \"mg.\")"
   ]
  },
  {
   "cell_type": "markdown",
   "metadata": {},
   "source": [
    "#### 6. Vitamin A"
   ]
  },
  {
   "cell_type": "code",
   "execution_count": 120,
   "metadata": {},
   "outputs": [
    {
     "name": "stdout",
     "output_type": "stream",
     "text": [
      "Average Vitamin A in Egg White category :   3.54 %.\n",
      "Average Vitamin A in Whole Egg category :   12.58 %.\n"
     ]
    }
   ],
   "source": [
    "ew_vitA_avg = round(ew['Vitamin A (% Daily Value)'].mean(axis=0),2)\n",
    "print(\"Average Vitamin A in Egg White category :  \", ew_vitA_avg, \"%.\")\n",
    "\n",
    "we_vitA_avg = round(we['Vitamin A (% Daily Value)'].mean(axis=0),2)\n",
    "print(\"Average Vitamin A in Whole Egg category :  \", we_vitA_avg, \"%.\")"
   ]
  },
  {
   "cell_type": "markdown",
   "metadata": {},
   "source": [
    "#### 7. Vitamin C"
   ]
  },
  {
   "cell_type": "code",
   "execution_count": 121,
   "metadata": {},
   "outputs": [
    {
     "name": "stdout",
     "output_type": "stream",
     "text": [
      "Average Vitamin C in Egg White category :   3.77 %.\n",
      "Average Vitamin C in White Egg category :   4.08 %.\n"
     ]
    }
   ],
   "source": [
    "ew_vitC_avg = round(ew['Vitamin C (% Daily Value)'].mean(axis=0),2)\n",
    "print(\"Average Vitamin C in Egg White category :  \", ew_vitC_avg, \"%.\")\n",
    "\n",
    "we_vitC_avg = round(we['Vitamin C (% Daily Value)'].mean(axis=0),2)\n",
    "print(\"Average Vitamin C in White Egg category :  \", we_vitC_avg, \"%.\")"
   ]
  },
  {
   "cell_type": "markdown",
   "metadata": {},
   "source": [
    "#### 8. Calcium"
   ]
  },
  {
   "cell_type": "code",
   "execution_count": 122,
   "metadata": {},
   "outputs": [
    {
     "name": "stdout",
     "output_type": "stream",
     "text": [
      "Average Calcium in Egg White category :   17.0 %.\n",
      "Average Calcium in White Egg category :   20.42 %.\n"
     ]
    }
   ],
   "source": [
    "ew_calc_avg = round(ew['Calcium (% Daily Value)'].mean(axis=0),2)\n",
    "print(\"Average Calcium in Egg White category :  \", ew_calc_avg, \"%.\")\n",
    "\n",
    "we_calc_avg = round(we['Calcium (% Daily Value)'].mean(axis=0),2)\n",
    "print(\"Average Calcium in White Egg category :  \", we_calc_avg, \"%.\")"
   ]
  },
  {
   "cell_type": "markdown",
   "metadata": {},
   "source": [
    "#### 9. Iron"
   ]
  },
  {
   "cell_type": "code",
   "execution_count": 123,
   "metadata": {},
   "outputs": [
    {
     "name": "stdout",
     "output_type": "stream",
     "text": [
      "Average Iron in Egg White category :   15.23 %.\n",
      "Average Iron in White Egg category :   18.75 %.\n"
     ]
    }
   ],
   "source": [
    "ew_ir_avg = round(ew['Iron (% Daily Value)'].mean(axis=0),2)\n",
    "print(\"Average Iron in Egg White category :  \", ew_ir_avg, \"%.\")\n",
    "\n",
    "we_ir_avg = round(we['Iron (% Daily Value)'].mean(axis=0),2)\n",
    "print(\"Average Iron in White Egg category :  \", we_ir_avg, \"%.\")"
   ]
  },
  {
   "cell_type": "markdown",
   "metadata": {},
   "source": [
    "#### 10. Sugars"
   ]
  },
  {
   "cell_type": "code",
   "execution_count": 124,
   "metadata": {},
   "outputs": [
    {
     "name": "stdout",
     "output_type": "stream",
     "text": [
      "Average Sugars in Egg White category :  7.62 mg\n",
      "Average Sugars in White Egg category :  5.58 mg\n"
     ]
    }
   ],
   "source": [
    "ew_sgr_avg = round(ew['Sugars'].mean(axis=0),2)\n",
    "print(\"Average Sugars in Egg White category : \", ew_sgr_avg, \"mg\")\n",
    "\n",
    "we_sgr_avg = round(we['Sugars'].mean(axis=0),2)\n",
    "print(\"Average Sugars in White Egg category : \", we_sgr_avg, \"mg\")"
   ]
  },
  {
   "cell_type": "markdown",
   "metadata": {},
   "source": [
    "### Visualization of Nutritional Value Comparison between Egg White and White Egg"
   ]
  },
  {
   "cell_type": "markdown",
   "metadata": {},
   "source": [
    "#### Calories"
   ]
  },
  {
   "cell_type": "code",
   "execution_count": 125,
   "metadata": {},
   "outputs": [
    {
     "data": {
      "image/png": "[encoded data removed]",
      "text/plain": [
       "<Figure size 432x288 with 1 Axes>"
      ]
     },
     "metadata": {
      "needs_background": "light"
     },
     "output_type": "display_data"
    }
   ],
   "source": [
    "nutr = ['Calories']\n",
    "vis_egg = pd.DataFrame({'Nutrition': nutr, 'Egg White': ew_cal_avg, \n",
    "                            'Whole Egg': we_cal_avg})\n",
    "ax = vis_egg.plot.barh(x='Nutrition', y=['Egg White','Whole Egg'], stacked=False, figsize= (6,4), color=['yellow', 'blue'])\n",
    "ax.set_title(\"Calories Comparison between Egg White and Whole Egg (in cal)\")\n",
    "\n",
    "for i in ax.patches:\n",
    "    left, bottom, width, height = i.get_bbox().bounds\n",
    "    ax.annotate(str(width), xy=(left+width/2, bottom+height/2), \n",
    "                horizontalalignment='left', verticalalignment='center') "
   ]
  },
  {
   "cell_type": "markdown",
   "metadata": {},
   "source": [
    "#### Cholesterol, Sodium, Fiber, Vitamin A, Vitamin C, Calcium, Iron"
   ]
  },
  {
   "cell_type": "code",
   "execution_count": 126,
   "metadata": {},
   "outputs": [
    {
     "data": {
      "image/png": "[encoded data removed]",
      "text/plain": [
       "<Figure size 720x1080 with 1 Axes>"
      ]
     },
     "metadata": {
      "needs_background": "light"
     },
     "output_type": "display_data"
    }
   ],
   "source": [
    "nutri = ['Cholesterol','Sodium','Fiber','Vitamin A','Vitamin C','Calcium','Iron']\n",
    "vis_egg = pd.DataFrame({'Nutrition': nutri, 'Egg White': [ew_chol_avg,ew_sod_avg,ew_fib_avg,ew_vitA_avg,\n",
    "                                                    ew_vitC_avg,ew_calc_avg,ew_ir_avg], 'Whole Egg': [we_chol_avg,we_sod_avg,we_fib_avg,\n",
    "                                                                                                   we_vitA_avg,we_vitC_avg,we_calc_avg,\n",
    "                                                                                                      we_ir_avg]})\n",
    "ax = vis_egg.plot.barh(x='Nutrition', y=['Egg White','Whole Egg'], stacked=False, figsize= (10,15), color=['red', 'green'])\n",
    "ax.set_title(\"Nutritional Value Comparison between Egg White and White Egg (in % Daily Value)\")\n",
    "\n",
    "for i in ax.patches:\n",
    "    left, bottom, width, height = i.get_bbox().bounds\n",
    "    ax.annotate(str(width), xy=(left+width/2, bottom+height/2), \n",
    "                horizontalalignment='left', verticalalignment='center') "
   ]
  },
  {
   "cell_type": "markdown",
   "metadata": {},
   "source": [
    "#### Protein and Sugars"
   ]
  },
  {
   "cell_type": "code",
   "execution_count": 127,
   "metadata": {},
   "outputs": [
    {
     "data": {
      "image/png": "[encoded data removed]",
      "text/plain": [
       "<Figure size 432x288 with 1 Axes>"
      ]
     },
     "metadata": {
      "needs_background": "light"
     },
     "output_type": "display_data"
    }
   ],
   "source": [
    "nutrii = ['Protein', 'Sugars']\n",
    "vis_egg = pd.DataFrame({'Nutrition': nutrii, 'Egg White': ew_pro_avg, \n",
    "                            'Whole Egg': we_pro_avg})\n",
    "ax = vis_egg.plot.barh(x='Nutrition', y=['Egg White','Whole Egg'], stacked=False, figsize= (6,4), color=['grey', 'purple'])\n",
    "ax.set_title(\"Protein Comparison between Egg White and Whole Egg (in mg)\")\n",
    "\n",
    "for i in ax.patches:\n",
    "    left, bottom, width, height = i.get_bbox().bounds\n",
    "    ax.annotate(str(width), xy=(left+width/2, bottom+height/2), \n",
    "                horizontalalignment='left', verticalalignment='center') "
   ]
  },
  {
   "cell_type": "markdown",
   "metadata": {},
   "source": [
    "### Menu Recommendation"
   ]
  },
  {
   "cell_type": "code",
   "execution_count": 128,
   "metadata": {
    "collapsed": true,
    "jupyter": {
     "outputs_hidden": true
    }
   },
   "outputs": [
    {
     "name": "stdout",
     "output_type": "stream",
     "text": [
      "<class 'pandas.core.frame.DataFrame'>\n",
      "RangeIndex: 260 entries, 0 to 259\n",
      "Data columns (total 11 columns):\n",
      " #   Column                         Non-Null Count  Dtype \n",
      "---  ------                         --------------  ----- \n",
      " 0   Item                           260 non-null    object\n",
      " 1   Total Fat (% Daily Value)      260 non-null    int64 \n",
      " 2   Saturated Fat (% Daily Value)  260 non-null    int64 \n",
      " 3   Cholesterol (% Daily Value)    260 non-null    int64 \n",
      " 4   Sodium (% Daily Value)         260 non-null    int64 \n",
      " 5   Carbohydrates (% Daily Value)  260 non-null    int64 \n",
      " 6   Dietary Fiber (% Daily Value)  260 non-null    int64 \n",
      " 7   Vitamin A (% Daily Value)      260 non-null    int64 \n",
      " 8   Vitamin C (% Daily Value)      260 non-null    int64 \n",
      " 9   Calcium (% Daily Value)        260 non-null    int64 \n",
      " 10  Iron (% Daily Value)           260 non-null    int64 \n",
      "dtypes: int64(10), object(1)\n",
      "memory usage: 22.5+ KB\n"
     ]
    }
   ],
   "source": [
    "dft = df.iloc[:,[1,6,8,11,13,15,17,20,21,22,23]]\n",
    "dft.info()"
   ]
  },
  {
   "cell_type": "code",
   "execution_count": 133,
   "metadata": {},
   "outputs": [
    {
     "name": "stdout",
     "output_type": "stream",
     "text": [
      "============Calculate the best menu for daily nutrition McDonalds================\n"
     ]
    },
    {
     "name": "stdin",
     "output_type": "stream",
     "text": [
      "Select the number of combinations (1-4) :  4\n"
     ]
    },
    {
     "name": "stdout",
     "output_type": "stream",
     "text": [
      "feature List : [0, 1, 2]\n",
      "Number of rows : 260\n",
      "Data used from row : 50\n",
      "Data used till row : 70\n",
      "Total data used : 20\n",
      "Number of items in list : 20\n"
     ]
    },
    {
     "data": {
      "text/html": [
       "<div>\n",
       "<style scoped>\n",
       "    .dataframe tbody tr th:only-of-type {\n",
       "        vertical-align: middle;\n",
       "    }\n",
       "\n",
       "    .dataframe tbody tr th {\n",
       "        vertical-align: top;\n",
       "    }\n",
       "\n",
       "    .dataframe thead th {\n",
       "        text-align: right;\n",
       "    }\n",
       "</style>\n",
       "<table border=\"1\" class=\"dataframe\">\n",
       "  <thead>\n",
       "    <tr style=\"text-align: right;\">\n",
       "      <th></th>\n",
       "      <th>Item</th>\n",
       "      <th>Total Fat (% Daily Value)</th>\n",
       "      <th>Saturated Fat (% Daily Value)</th>\n",
       "    </tr>\n",
       "  </thead>\n",
       "  <tbody>\n",
       "    <tr>\n",
       "      <th>50</th>\n",
       "      <td>Double Cheeseburger</td>\n",
       "      <td>32</td>\n",
       "      <td>52</td>\n",
       "    </tr>\n",
       "    <tr>\n",
       "      <th>51</th>\n",
       "      <td>Bacon Clubhouse Burger</td>\n",
       "      <td>62</td>\n",
       "      <td>75</td>\n",
       "    </tr>\n",
       "    <tr>\n",
       "      <th>52</th>\n",
       "      <td>McDouble</td>\n",
       "      <td>26</td>\n",
       "      <td>40</td>\n",
       "    </tr>\n",
       "    <tr>\n",
       "      <th>53</th>\n",
       "      <td>Bacon McDouble</td>\n",
       "      <td>34</td>\n",
       "      <td>49</td>\n",
       "    </tr>\n",
       "    <tr>\n",
       "      <th>54</th>\n",
       "      <td>Daily Double</td>\n",
       "      <td>35</td>\n",
       "      <td>44</td>\n",
       "    </tr>\n",
       "  </tbody>\n",
       "</table>\n",
       "</div>"
      ],
      "text/plain": [
       "                      Item  Total Fat (% Daily Value)  \\\n",
       "50     Double Cheeseburger                         32   \n",
       "51  Bacon Clubhouse Burger                         62   \n",
       "52                McDouble                         26   \n",
       "53          Bacon McDouble                         34   \n",
       "54            Daily Double                         35   \n",
       "\n",
       "    Saturated Fat (% Daily Value)  \n",
       "50                             52  \n",
       "51                             75  \n",
       "52                             40  \n",
       "53                             49  \n",
       "54                             44  "
      ]
     },
     "execution_count": 133,
     "metadata": {},
     "output_type": "execute_result"
    }
   ],
   "source": [
    "print(\"============Calculate the best menu for daily nutrition McDonalds================\")\n",
    "combo = input('Select the number of combinations (1-4) : ', )\n",
    "\n",
    "featList = list(range(len(dft.columns)-8))\n",
    "\n",
    "row = len(dft)\n",
    "print('feature List : {}'.format(featList))\n",
    "print('Number of rows : {}'.format(row))\n",
    "\n",
    "# cut and get the set number of data\n",
    "startData = 50\n",
    "endData = 70\n",
    "cutData = endData-startData # using all 260 data tends to reset kernel since brute force is very exhaustive\n",
    "print('Data used from row : {}'.format(startData))\n",
    "print('Data used till row : {}'.format(endData))\n",
    "print('Total data used : {}'.format(cutData))\n",
    "\n",
    "# all features and item list\n",
    "#df_item = dft.iloc[range(row-1), featList]\n",
    "df_item = dft.iloc[startData:endData, featList]\n",
    "\n",
    "print('Number of items in list : {}'.format(len(df_item)))\n",
    "\n",
    "# dropped item column to get list of features\n",
    "#df_feature = dft[:].drop('Item', axis=1)\n",
    "df_feature = df_item[:].drop('Item', axis=1)\n",
    "\n",
    "df_item.head(5)\n",
    "#df_feature.head(5)"
   ]
  },
  {
   "cell_type": "code",
   "execution_count": 130,
   "metadata": {},
   "outputs": [],
   "source": [
    "def calError(err):\n",
    "    temp = []\n",
    "    for i in range(len(err)):\n",
    "        temp.append(abs(err[i]))\n",
    "    errorScore = sum(temp)/len(temp)\n",
    "    return errorScore\n",
    "\n",
    "def checkMAE(mae, threshold):\n",
    "    if (mae <= threshold):\n",
    "        return True\n",
    "    else:\n",
    "        return False"
   ]
  },
  {
   "cell_type": "code",
   "execution_count": 136,
   "metadata": {},
   "outputs": [
    {
     "name": "stdout",
     "output_type": "stream",
     "text": [
      "Total combination menu for all data : 4845\n",
      "Selected item : [[1, 8, 16, 17], 0.3333333333333333]\n",
      "51                      Bacon Clubhouse Burger\n",
      "58    Premium Grilled Chicken Classic Sandwich\n",
      "66                                   McChicken\n",
      "67                     Bacon Cheddar McChicken\n",
      "Name: Item, dtype: object\n"
     ]
    }
   ],
   "source": [
    "from itertools import combinations, chain\n",
    "\n",
    "# get the list of combination from data and combo (in our case 20 combination 4, which is 4845)\n",
    "comboList = []\n",
    "for x in combinations(range(cutData),int(combo)):\n",
    "    comboList.append(list(x))\n",
    "    \n",
    "total_combo = len(comboList)\n",
    "\n",
    "print('Total combination menu for all data : {}'.format(total_combo))\n",
    "\n",
    "listOutput = []\n",
    "for i in range(total_combo):\n",
    "    nutriTotal = [0]*len(featList)\n",
    "    err = [0]*len(featList)\n",
    "    \n",
    "    for j in range(int(combo)):\n",
    "        temp = comboList[i][j]\n",
    "        for x in range(len(featList)-1):\n",
    "            nutriTotal[x] += df_feature.iloc[temp,x] # Total nutrition value from each feature\n",
    "        \n",
    "        for x in range(len(featList)-1):\n",
    "            err[x] = nutriTotal[x] - 100 # this is our set point for error to find the error value each nutrition\n",
    "            #print(err)\n",
    "        \n",
    "        # calculate error from mean absolute error\n",
    "        mae = calError(err)\n",
    "        #print(mae)\n",
    "        if checkMAE(mae, 8):\n",
    "            listOutput.append([comboList[i], mae])\n",
    "            \n",
    "if listOutput:\n",
    "    listOutput = sorted(listOutput, key=lambda l:l[1])\n",
    "    #for out in listOutput:\n",
    "        #print(out)\n",
    "    print('Selected item : {}'.format(listOutput[0]))\n",
    "    print(df_item.iloc[listOutput[0][0],0])"
   ]
  },
  {
   "cell_type": "code",
   "execution_count": null,
   "metadata": {},
   "outputs": [],
   "source": []
  }
 ],
 "metadata": {
  "kernelspec": {
   "display_name": "Python",
   "language": "python",
   "name": "conda-env-python-py"
  },
  "language_info": {
   "codemirror_mode": {
    "name": "ipython",
    "version": 3
   },
   "file_extension": ".py",
   "mimetype": "text/x-python",
   "name": "python",
   "nbconvert_exporter": "python",
   "pygments_lexer": "ipython3",
   "version": "3.6.11"
  }
 },
 "nbformat": 4,
 "nbformat_minor": 4
}
